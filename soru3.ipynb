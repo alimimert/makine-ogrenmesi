{
 "cells": [
  {
   "cell_type": "code",
   "execution_count": 6,
   "metadata": {},
   "outputs": [
    {
     "name": "stdout",
     "output_type": "stream",
     "text": [
      "   Latitude  Longitude  Depth  Magnitude\n",
      "0    19.246    145.616  131.6        6.0\n",
      "1     1.863    127.352   80.0        5.8\n",
      "2   -20.579   -173.972   20.0        6.2\n",
      "3   -59.076    -23.557   15.0        5.8\n",
      "4    11.938    126.427   15.0        5.8\n",
      "RMSE değeri: 0.4222388798355116\n"
     ]
    }
   ],
   "source": [
    "import pandas as pd\n",
    "from sklearn.linear_model import LinearRegression\n",
    "from sklearn.model_selection import train_test_split\n",
    "from sklearn.metrics import mean_squared_error\n",
    "import numpy as np\n",
    "\n",
    "# Veri setini yükleme\n",
    "data = pd.read_csv(\"data3.csv\", sep=\";\", decimal=\",\")\n",
    "\n",
    "# Veri setinin ilk birkaç satırını görüntüleme\n",
    "print(data.head())\n",
    "\n",
    "# Bağımsız değişkenler (latitude, longitude ve depth)\n",
    "X = data[['Latitude', 'Longitude', 'Depth']]\n",
    "\n",
    "# Bağımlı değişken (magnitude)\n",
    "y = data['Magnitude']\n",
    "\n",
    "# Veri setini eğitim ve test kümelerine ayırma\n",
    "X_train, X_test, y_train, y_test = train_test_split(X, y, test_size=0.2, random_state=42)\n",
    "\n",
    "# Lineer regresyon modelini eğitme\n",
    "model = LinearRegression()\n",
    "model.fit(X_train, y_train)\n",
    "\n",
    "# Test veri seti üzerinde tahmin yapma\n",
    "y_pred = model.predict(X_test)\n",
    "\n",
    "# RMSE değerini hesaplama\n",
    "rmse = np.sqrt(mean_squared_error(y_test, y_pred))\n",
    "\n",
    "# RMSE değerini yazdırma\n",
    "print(\"RMSE değeri:\", rmse)\n"
   ]
  },
  {
   "cell_type": "code",
   "execution_count": null,
   "metadata": {},
   "outputs": [],
   "source": []
  }
 ],
 "metadata": {
  "kernelspec": {
   "display_name": "Python 3",
   "language": "python",
   "name": "python3"
  },
  "language_info": {
   "codemirror_mode": {
    "name": "ipython",
    "version": 3
   },
   "file_extension": ".py",
   "mimetype": "text/x-python",
   "name": "python",
   "nbconvert_exporter": "python",
   "pygments_lexer": "ipython3",
   "version": "3.11.2"
  },
  "orig_nbformat": 4
 },
 "nbformat": 4,
 "nbformat_minor": 2
}
