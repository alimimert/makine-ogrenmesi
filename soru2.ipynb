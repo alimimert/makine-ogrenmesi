{
 "cells": [
  {
   "cell_type": "code",
   "execution_count": 9,
   "metadata": {},
   "outputs": [
    {
     "name": "stderr",
     "output_type": "stream",
     "text": [
      "c:\\Users\\LENOVO\\AppData\\Local\\Programs\\Python\\Python311\\Lib\\site-packages\\sklearn\\cluster\\_kmeans.py:870: FutureWarning: The default value of `n_init` will change from 10 to 'auto' in 1.4. Set the value of `n_init` explicitly to suppress the warning\n",
      "  warnings.warn(\n"
     ]
    },
    {
     "name": "stdout",
     "output_type": "stream",
     "text": [
      "Başarı Oranı:  0.22473466520992663\n"
     ]
    }
   ],
   "source": [
    "import pandas as pd\n",
    "from sklearn.cluster import KMeans\n",
    "from sklearn.metrics import accuracy_score\n",
    "\n",
    "# Verileri Excel dosyasından oku\n",
    "data = pd.read_excel(\"data2.xlsx\", sheet_name=\"data\", header=None)\n",
    "X = data.values  # Veri noktalarını al\n",
    "\n",
    "# K-Means algoritmasını uygula\n",
    "kmeans = KMeans(n_clusters=2, random_state=42)\n",
    "kmeans.fit(X)\n",
    "\n",
    "# Sınıflandırma sonuçlarını al\n",
    "labels = kmeans.labels_\n",
    "\n",
    "# Gerçek değerleri oku\n",
    "gercek_degerler = pd.read_excel(\"data2.xlsx\", sheet_name=\"sınıf\", header=None)\n",
    "y_true = gercek_degerler.values.flatten()\n",
    "\n",
    "# Etiketleri sınıf numaralarına dönüştür\n",
    "def convert_labels(labels):\n",
    "    label_map = {labels[0]: 0}\n",
    "    converted_labels = [0]\n",
    "    current_label = 0\n",
    "    for label in labels[1:]:\n",
    "        if label not in label_map:\n",
    "            current_label += 1\n",
    "            label_map[label] = current_label\n",
    "        converted_labels.append(label_map[label])\n",
    "    return converted_labels\n",
    "\n",
    "# Etiketleri dönüştür\n",
    "converted_labels = convert_labels(labels)\n",
    "\n",
    "# Başarı oranını hesapla\n",
    "accuracy = accuracy_score(y_true, converted_labels)\n",
    "print(\"Başarı Oranı: \", accuracy)\n"
   ]
  },
  {
   "cell_type": "code",
   "execution_count": null,
   "metadata": {},
   "outputs": [],
   "source": []
  }
 ],
 "metadata": {
  "kernelspec": {
   "display_name": "Python 3",
   "language": "python",
   "name": "python3"
  },
  "language_info": {
   "codemirror_mode": {
    "name": "ipython",
    "version": 3
   },
   "file_extension": ".py",
   "mimetype": "text/x-python",
   "name": "python",
   "nbconvert_exporter": "python",
   "pygments_lexer": "ipython3",
   "version": "3.11.2"
  },
  "orig_nbformat": 4
 },
 "nbformat": 4,
 "nbformat_minor": 2
}
