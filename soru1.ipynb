{
 "cells": [
  {
   "cell_type": "code",
   "execution_count": 3,
   "metadata": {},
   "outputs": [
    {
     "name": "stdout",
     "output_type": "stream",
     "text": [
      "Karşıtlık Matrisi:\n",
      "[[ 16  22]\n",
      " [  8 106]]\n",
      "Doğruluk (Accuracy): 0.8026315789473685\n"
     ]
    }
   ],
   "source": [
    "import pandas as pd\n",
    "import numpy as np\n",
    "from sklearn.model_selection import train_test_split\n",
    "from sklearn.decomposition import PCA\n",
    "from sklearn.neighbors import KNeighborsClassifier\n",
    "from sklearn.metrics import confusion_matrix, accuracy_score\n",
    "\n",
    "# Verisetini yükle\n",
    "data = pd.read_csv('data1.csv', delimiter=';', decimal=',')\n",
    "\n",
    "# Öznitelikleri ve hedef sütunu ayrıştır\n",
    "X = data.iloc[:, :-1].values  # Bağımsız değişkenler\n",
    "y = data.iloc[:, -1].values   # Hedef değişken\n",
    "\n",
    "# Veriyi eğitim ve test olarak ayır\n",
    "X_train, X_test, y_train, y_test = train_test_split(X, y, test_size=0.2, random_state=42)\n",
    "\n",
    "# PCA ile öznitelik çıkarımı\n",
    "pca = PCA(n_components=2)  # İki bileşen seçtik (daha fazla seçebilirsiniz)\n",
    "X_train_pca = pca.fit_transform(X_train)\n",
    "X_test_pca = pca.transform(X_test)\n",
    "\n",
    "# KNN sınıflandırma\n",
    "knn = KNeighborsClassifier(n_neighbors=5)\n",
    "knn.fit(X_train_pca, y_train)\n",
    "\n",
    "# Tahmin yap\n",
    "y_pred = knn.predict(X_test_pca)\n",
    "\n",
    "# Karşıtlık matrisi (Confusion Matrix) ve doğruluk değeri\n",
    "cm = confusion_matrix(y_test, y_pred)\n",
    "accuracy = accuracy_score(y_test, y_pred)\n",
    "\n",
    "print(\"Karşıtlık Matrisi:\")\n",
    "print(cm)\n",
    "print(\"Doğruluk (Accuracy):\", accuracy)\n"
   ]
  },
  {
   "cell_type": "code",
   "execution_count": null,
   "metadata": {},
   "outputs": [],
   "source": []
  }
 ],
 "metadata": {
  "kernelspec": {
   "display_name": "Python 3",
   "language": "python",
   "name": "python3"
  },
  "language_info": {
   "codemirror_mode": {
    "name": "ipython",
    "version": 3
   },
   "file_extension": ".py",
   "mimetype": "text/x-python",
   "name": "python",
   "nbconvert_exporter": "python",
   "pygments_lexer": "ipython3",
   "version": "3.11.2"
  },
  "orig_nbformat": 4
 },
 "nbformat": 4,
 "nbformat_minor": 2
}
